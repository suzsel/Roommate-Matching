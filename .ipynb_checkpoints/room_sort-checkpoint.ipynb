{
 "cells": [
  {
   "attachments": {
    "image-2.png": {
     "image/png": "[encoded data removed]"
    },
    "image-3.png": {
     "image/png": "[encoded data removed]"
    },
    "image-4.png": {
     "image/png": "[encoded data removed]"
    }
   },
   "cell_type": "markdown",
   "id": "01e02c49",
   "metadata": {},
   "source": [
    "# Similarity Measures\n",
    "Exponential Decay ![image-2.png](attachment:image-2.png)\n",
    "Inverse Distance  ![image-3.png](attachment:image-3.png)\n",
    "Gaussian Similarity ![image-4.png](attachment:image-4.png)"
   ]
  },
  {
   "cell_type": "markdown",
   "id": "b391ee73",
   "metadata": {},
   "source": [
    "# Dependencies"
   ]
  },
  {
   "cell_type": "code",
   "execution_count": 2,
   "id": "c4c37d41",
   "metadata": {
    "scrolled": true
   },
   "outputs": [
    {
     "name": "stderr",
     "output_type": "stream",
     "text": [
      "C:\\Users\\ilyan\\anaconda3\\envs\\room_match\\lib\\site-packages\\sentence_transformers\\cross_encoder\\CrossEncoder.py:11: TqdmWarning: IProgress not found. Please update jupyter and ipywidgets. See https://ipywidgets.readthedocs.io/en/stable/user_install.html\n",
      "  from tqdm.autonotebook import tqdm, trange\n"
     ]
    }
   ],
   "source": [
    "import numpy as np\n",
    "import pandas as pd\n",
    "import torch\n",
    "torch.device('cpu')\n",
    "from sentence_transformers import SentenceTransformer\n",
    "from scipy.spatial import distance_matrix\n",
    "# encoders BERT, RoBERTa, or DistilBERT"
   ]
  },
  {
   "cell_type": "markdown",
   "id": "aba2959a",
   "metadata": {},
   "source": [
    "# Initializing "
   ]
  },
  {
   "cell_type": "code",
   "execution_count": 3,
   "id": "76d23f6b",
   "metadata": {},
   "outputs": [
    {
     "name": "stderr",
     "output_type": "stream",
     "text": [
      "C:\\Users\\ilyan\\anaconda3\\envs\\room_match\\lib\\site-packages\\huggingface_hub\\file_download.py:1132: FutureWarning: `resume_download` is deprecated and will be removed in version 1.0.0. Downloads always resume when possible. If you want to force a new download, use `force_download=True`.\n",
      "  warnings.warn(\n"
     ]
    }
   ],
   "source": [
    "# df = pd.read_csv('submmited_forms.csv')\n",
    "encoder = SentenceTransformer(\"paraphrase-MiniLM-L6-v2\")\n",
    "\n",
    "#   1st column is hobby   2nd column is favourite subject\n",
    "df = pd.DataFrame({\n",
    "    'William'   :   ['video games',   'Physics ', 'warm'],\n",
    "    'Sterling'  :   ['Skateboarding', 'Organic chemistry', 'cold'],\n",
    "    'Stanford'  :   ['programming',   'Mathematics', 'hot'],\n",
    "    'Daniel'    :   ['fishing',       'Biology', 'moderate'],\n",
    "}, index=['hobby', 'fav. subject', 'preffered temperature'])\n",
    "\n",
    "names = np.array(df.columns)\n",
    "num_features = df.shape[0]\n",
    "\n",
    "def normalize_L2(matrix):\n",
    "    '''\n",
    "    Normalizes row vectors in a matrix\n",
    "    '''\n",
    "    norms = np.linalg.norm(matrix, axis=1, keepdims=True)\n",
    "    return matrix / norms\n",
    "\n",
    "\n",
    "def exponential_similarity(dist_matrix, lambda_p = 0.01):\n",
    "    return np.exp(- lambda_p * dist_matrix)\n",
    "\n",
    "\n",
    "def inverse_distance(matrix):\n",
    "    return np.power(matrix + 1, -1)\n",
    "\n",
    "def gaussian_similarity(matrix, num_features):\n",
    "    gamma = 1 / num_features\n",
    "    quadratic_dist = np.power(matrix, 2)\n",
    "    return np.exp(-quadratic_dist)\n",
    "\n",
    "\n",
    "def match_pairs(names, sim_matrix, dist_matrix):\n",
    "    maxes = sim_matrix.max(axis=0)\n",
    "    maxes_indices = np.argmax(sim_matrix, axis=0)\n",
    "    # number of pairs is half of the dimension\n",
    "    dim_half = maxes.shape[0] // 2 \n",
    "    indices = maxes_indices[:dim_half] \n",
    "    similarities = np.array(dist_matrix[range(dim_half), indices])\n",
    "    candidates = names[indices]\n",
    "    pairs = np.column_stack((names[:2], candidates, similarities))\n",
    "    return pairs\n",
    "\n",
    "def dist_matrices_embed(emb_features):# calculate dist matrices for every feature(subject, hobby) and sum them to one dist_matrix\n",
    "    dist_matrices = np.array([distance_matrix(i, i) for i in emb_features])\n",
    "    return np.sum(dist_matrices, axis=0)"
   ]
  },
  {
   "cell_type": "markdown",
   "id": "accd3f31",
   "metadata": {},
   "source": [
    "# Main"
   ]
  },
  {
   "cell_type": "code",
   "execution_count": 304,
   "id": "4def1ee1",
   "metadata": {},
   "outputs": [
    {
     "data": {
      "text/plain": [
       "(array([[0.        , 0.80734731, 0.83624676, 0.81514666],\n",
       "        [0.80734731, 0.        , 0.808115  , 0.81149584],\n",
       "        [0.83624676, 0.808115  , 0.        , 0.82156425],\n",
       "        [0.81514666, 0.81149584, 0.82156425, 0.        ]]),\n",
       " array([['William', 'Stanford', 0.84],\n",
       "        ['Sterling', 'Daniel', 0.81]], dtype=object))"
      ]
     },
     "execution_count": 304,
     "metadata": {},
     "output_type": "execute_result"
    }
   ],
   "source": [
    "matrix = df.to_numpy().reshape(-1)\n",
    "embeddings = encoder.encode(matrix)\n",
    "emb_features = np.split(embeddings, num_features)\n",
    "\n",
    "dist_matrix = dist_matrices_embed(emb_features)\n",
    "# deleting diagonal from considering\n",
    "np.fill_diagonal(dist_matrix, np.inf)                 \n",
    "sim_matrix = exponential_similarity(dist_matrix)\n",
    "rounded_dist = np.round(sim_matrix, 2)\n",
    "result = match_pairs(names, sim_matrix, rounded_dist)\n",
    "sim_matrix, result"
   ]
  },
  {
   "cell_type": "code",
   "execution_count": null,
   "id": "18a5e305",
   "metadata": {},
   "outputs": [],
   "source": [
    "# Correct Results \n",
    "# df = pd.DataFrame({\n",
    "#     'William':  ['video games', 'Physics '],\n",
    "#     'Sterling': ['Skateboarding', 'Organic chemistry'],\n",
    "#     'Stanford': ['programming', 'Mathematics'],\n",
    "#     'Daniel':   ['fishing', 'Biology'],\n",
    "# }, index=['hobby', 'fav. subject'])\n",
    "\n",
    "# (torch.return_types.max(\n",
    "#  values=tensor([0.8362, 0.8115, 0.8362, 0.8216], dtype=torch.float64),\n",
    "#  indices=tensor([2, 3, 0, 2])),\n",
    "#  tensor([[0.0000, 0.8073, 0.8362, 0.8151],\n",
    "#          [0.8073, 0.0000, 0.8081, 0.8115],\n",
    "#          [0.8362, 0.8081, 0.0000, 0.8216],\n",
    "#          [0.8151, 0.8115, 0.8216, 0.0000]], dtype=torch.float64))"
   ]
  }
 ],
 "metadata": {
  "kernelspec": {
   "display_name": "room_match",
   "language": "python",
   "name": "room_match"
  },
  "language_info": {
   "codemirror_mode": {
    "name": "ipython",
    "version": 3
   },
   "file_extension": ".py",
   "mimetype": "text/x-python",
   "name": "python",
   "nbconvert_exporter": "python",
   "pygments_lexer": "ipython3",
   "version": "3.9.2"
  }
 },
 "nbformat": 4,
 "nbformat_minor": 5
}
